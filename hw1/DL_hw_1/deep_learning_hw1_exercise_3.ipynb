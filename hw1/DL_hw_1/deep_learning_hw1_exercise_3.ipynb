{
 "cells": [
  {
   "cell_type": "markdown",
   "metadata": {},
   "source": [
    "# Drew Warren\n",
    "# Deep learning from scratch: homework 1"
   ]
  },
  {
   "cell_type": "markdown",
   "metadata": {},
   "source": [
    "### General instructions\n",
    "\n",
    "Complete the exericse listed below in this Jupyter notebook - leaving all of your code in Python cells in the notebook itself.  Feel free to add any necessary cells.  "
   ]
  },
  {
   "cell_type": "markdown",
   "metadata": {},
   "source": [
    "### When submitting this homework:\n",
    "\n",
    "**Make sure you have put your name at the top of each file**\n",
    "    \n",
    "**Make sure all output is present in your notebook prior to submission**\n",
    "\n",
    "**If possible please do not zip your files when uploading to canvas**"
   ]
  },
  {
   "cell_type": "markdown",
   "metadata": {},
   "source": [
    "---"
   ]
  },
  {
   "cell_type": "code",
   "execution_count": 46,
   "metadata": {
    "collapsed": true
   },
   "outputs": [],
   "source": [
    "# import necessary library for this exercise\n",
    "import autograd.numpy as np   \n",
    "from autograd import value_and_grad \n",
    "import matplotlib.pyplot as plt"
   ]
  },
  {
   "cell_type": "markdown",
   "metadata": {},
   "source": [
    "#### <span style=\"color:#a50e3e;\">Exercise 3. </span>  Apply gradient descent to minimize the Least Squares cost for linear regression on a low dimensional dataset"
   ]
  },
  {
   "cell_type": "markdown",
   "metadata": {},
   "source": [
    "In this exercise you will perform gradient descent to minimize the Least Squares cost function for linear regression, first using the following toy data."
   ]
  },
  {
   "cell_type": "code",
   "execution_count": 47,
   "metadata": {},
   "outputs": [
    {
     "data": {
      "image/png": "[encoded data removed]",
      "text/plain": [
       "<matplotlib.figure.Figure at 0x7f9978552198>"
      ]
     },
     "metadata": {},
     "output_type": "display_data"
    }
   ],
   "source": [
    "# data input\n",
    "csvname = '2d_linregress_data.csv'\n",
    "data = np.loadtxt(csvname,delimiter = ',')\n",
    "\n",
    "# get input and output of dataset\n",
    "x = data[:,:-1].T\n",
    "y = data[:,-1:] \n",
    "\n",
    "# scatter plot the input data\n",
    "plt.figure()\n",
    "plt.scatter(x,y,color = 'k',edgecolor = 'w')\n",
    "plt.show()"
   ]
  },
  {
   "cell_type": "markdown",
   "metadata": {},
   "source": [
    "## Gradient Descent function from section 6.4\n",
    "def gradient_descent(g,alpha_choice,max_its,w):\n",
    "    gradient = value_and_grad(g)\n",
    "    weight_history = []\n",
    "    cost_history = []\n",
    "    alpha = 0\n",
    "    for k in range(1,max_its+1):\n",
    "        if alpha_choice == 'diminishing':\n",
    "            alpha = 1/float(k)\n",
    "        else:\n",
    "            alpha = alpha_choice\n",
    "            \n",
    "        cost_eval,grad_eval = gradient(w)\n",
    "        weight_history.append(w)\n",
    "        cost_history.append(cost_eval)\n",
    "        w = w - alpha*grad_eval\n",
    "        \n",
    "    weight_history.append(w)\n",
    "    cost_history.append(g(w))  \n",
    "    return weight_history,cost_history"
   ]
  },
  {
   "cell_type": "code",
   "execution_count": 48,
   "metadata": {
    "collapsed": true
   },
   "outputs": [],
   "source": [
    "# Least Squares functions\n",
    "# compute linear model of input point\n",
    "def model(x_p,w):\n",
    "    # stack a 1 onto the top of each input \n",
    "    x_p = np.vstack((1,x_p))   \n",
    "        \n",
    "    # compute linear combination and return\n",
    "    a = np.dot(x_p.T,w)\n",
    "    return a\n",
    "\n",
    "# a least squares function for linear regression\n",
    "def least_squares(w):\n",
    "    P = len(y)\n",
    "    cost = 0\n",
    "    for p in range(P):\n",
    "        # get pth input/output pair\n",
    "        x_p = x[:,p][:,np.newaxis]\n",
    "        y_p = y[p]\n",
    "\n",
    "        ## add to current cost\n",
    "        cost += (model(x_p,w)  - y_p)**2\n",
    "        \n",
    "    # return average least squares error\n",
    "    return cost/float(P)\n",
    "\n",
    "def gradient_descent(g,alpha_choice,max_its,w):\n",
    "    gradient = value_and_grad(g)\n",
    "    weight_history = []\n",
    "    cost_history = []\n",
    "    alpha = 0\n",
    "    for k in range(1,max_its+1):\n",
    "        if alpha_choice == 'diminishing':\n",
    "            alpha = 1/float(k)\n",
    "        else:\n",
    "            alpha = alpha_choice\n",
    "            \n",
    "        cost_eval,grad_eval = gradient(w)\n",
    "        weight_history.append(w)\n",
    "        cost_history.append(cost_eval)\n",
    "        w = w - alpha*grad_eval\n",
    "        \n",
    "    weight_history.append(w)\n",
    "    cost_history.append(g(w))  \n",
    "    return weight_history,cost_history"
   ]
  },
  {
   "cell_type": "code",
   "execution_count": 49,
   "metadata": {},
   "outputs": [
    {
     "data": {
      "image/png": "[encoded data removed]",
      "text/plain": [
       "<matplotlib.figure.Figure at 0x7f9978574748>"
      ]
     },
     "metadata": {},
     "output_type": "display_data"
    },
    {
     "data": {
      "image/png": "[encoded data removed]",
      "text/plain": [
       "<matplotlib.figure.Figure at 0x7f99a032f5c0>"
      ]
     },
     "metadata": {},
     "output_type": "display_data"
    }
   ],
   "source": [
    "# Minimize the least squares cost function\n",
    "g = least_squares\n",
    "w = 0.1*np.random.randn(2,1)\n",
    "w = (w.T)[0]\n",
    "#print(w)\n",
    "max_its = 250\n",
    "alpha_choice = 0.1\n",
    "weight_history,cost_history = gradient_descent(g,alpha_choice,max_its,w)\n",
    "\n",
    "#### Plotting\n",
    "fig = plt.figure()\n",
    "plt.plot(range(max_its+1), cost_history)\n",
    "plt.ylabel('Cost History')\n",
    "plt.xlabel('Iterations')\n",
    "plt.show()\n",
    "\n",
    "plt.figure()\n",
    "plt.scatter(x,y,color = 'k',edgecolor = 'w')\n",
    "xfit = np.linspace(0.0,1.0,100)\n",
    "w0 = weight_history[-1][0]\n",
    "w1 = weight_history[-1][1]\n",
    "yfit = w0 + w1*xfit\n",
    "plt.plot(xfit,yfit)\n",
    "plt.title('Best Fit')\n",
    "plt.show()"
   ]
  },
  {
   "cell_type": "markdown",
   "metadata": {},
   "source": [
    "Copy the gradient descent code given in [Section 6.4 of the class notes](https://jermwatt.github.io/mlrefined/blog_posts/6_First_order_methods/6_4_Gradient_descent.html), and code for computing the Least Squares cost from [Section 8.1.3 of the class notes](https://jermwatt.github.io/mlrefined/blog_posts/8_Linear_regression/8_1_Least_squares_regression.html) in the cells below.  Make sure you understand how each of these code blocks is written prior to using them!\n",
    "\n",
    "Once you have copied over the code, determine optimal parameters of the best fit line for the dataset above by minimizing the Least Squares cost via gradient descent.  Choose a steplength parameter properly of the form $10^{-\\gamma}$  by using the cost function history plot.  Use at most $1000$ iterations\n",
    "\n",
    "Plot the resulting fit of your best run's weights to the dataset above.  Use the following small random initialization when you perform your gradient descent run. \n",
    "\n",
    " ```w = 0.1*np.random.randn(2,1)```"
   ]
  },
  {
   "cell_type": "markdown",
   "metadata": {},
   "source": [
    "**------ HINT ------**"
   ]
  },
  {
   "cell_type": "markdown",
   "metadata": {},
   "source": [
    "How can you produce the best fit line resulting from a run of gradient descent?  Say the following set of weights provided the smallest cost function value for your run\n",
    "\n",
    "\\begin{equation}\n",
    "\\mathbf{w}^{\\star} = \\begin{bmatrix} w_0^{\\star} \\\\ w_1^{\\star} \\end{bmatrix}\n",
    "\\end{equation}\n",
    "\n",
    "then to create a point on your best fit line you input a new test point $x_{test}$ and plug it into your best fit line giving the corresponding output\n",
    "\n",
    "\\begin{equation}\n",
    "y_{test} =  w_0^{\\star} +  w_1^{\\star}x_{test}\n",
    "\\end{equation}"
   ]
  },
  {
   "cell_type": "markdown",
   "metadata": {},
   "source": [
    "Note in how we have written the `Python` code for Least Squares this output $y_{test}$ can be invoking the `model` function as \n",
    "\n",
    "\\begin{equation}\n",
    "y_{test} = \\text{model}\\left(x_{test},\\mathbf{w}^{\\star}\\right)\n",
    "\\end{equation}"
   ]
  },
  {
   "cell_type": "markdown",
   "metadata": {},
   "source": [
    "This pair $\\left(x_{test},y_{test}\\right)$ is a point on your best fit line.  To visualize the best fit line evaluate a good number of evenly spaced test inputs over the range of the training data (100 or 200 should suffice), plug them into your fully trained model, and plot the resulting points."
   ]
  }
 ],
 "metadata": {
  "anaconda-cloud": {},
  "kernelspec": {
   "display_name": "Python 3",
   "language": "python",
   "name": "python3"
  },
  "language_info": {
   "codemirror_mode": {
    "name": "ipython",
    "version": 3
   },
   "file_extension": ".py",
   "mimetype": "text/x-python",
   "name": "python",
   "nbconvert_exporter": "python",
   "pygments_lexer": "ipython3",
   "version": "3.6.3"
  },
  "toc": {
   "colors": {
    "hover_highlight": "#DAA520",
    "navigate_num": "#000000",
    "navigate_text": "#333333",
    "running_highlight": "#FF0000",
    "selected_highlight": "#FFD700",
    "sidebar_border": "#EEEEEE",
    "wrapper_background": "#FFFFFF"
   },
   "moveMenuLeft": true,
   "nav_menu": {
    "height": "30px",
    "width": "252px"
   },
   "navigate_menu": true,
   "number_sections": false,
   "sideBar": true,
   "threshold": 4,
   "toc_cell": false,
   "toc_section_display": "block",
   "toc_window_display": false,
   "widenNotebook": false
  }
 },
 "nbformat": 4,
 "nbformat_minor": 1
}
