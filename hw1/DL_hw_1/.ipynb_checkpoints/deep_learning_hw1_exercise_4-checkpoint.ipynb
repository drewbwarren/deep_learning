{
 "cells": [
  {
   "cell_type": "markdown",
   "metadata": {},
   "source": [
    "# Drew Warren\n",
    "# Deep learning from scratch: homework 1"
   ]
  },
  {
   "cell_type": "markdown",
   "metadata": {},
   "source": [
    "### General instructions\n",
    "\n",
    "Complete the exericse listed below in this Jupyter notebook - leaving all of your code in Python cells in the notebook itself.  Feel free to add any necessary cells.  "
   ]
  },
  {
   "cell_type": "markdown",
   "metadata": {},
   "source": [
    "### When submitting this homework:\n",
    "\n",
    "**Make sure you have put your name at the top of each file**\n",
    "    \n",
    "**Make sure all output is present in your notebook prior to submission**\n",
    "\n",
    "**If possible please do not zip your files when uploading to canvas**"
   ]
  },
  {
   "cell_type": "markdown",
   "metadata": {},
   "source": [
    "---"
   ]
  },
  {
   "cell_type": "code",
   "execution_count": 77,
   "metadata": {
    "collapsed": true
   },
   "outputs": [],
   "source": [
    "# import necessary library for this exercise\n",
    "import autograd.numpy as np   \n",
    "from autograd import value_and_grad \n",
    "import matplotlib.pyplot as plt"
   ]
  },
  {
   "cell_type": "markdown",
   "metadata": {},
   "source": [
    "#### <span style=\"color:#a50e3e;\">Exercise 4. </span>  Normalizing the input of a student debt dataset"
   ]
  },
  {
   "cell_type": "markdown",
   "metadata": {},
   "source": [
    "In this exercise you will repeat the experiment shown in [Example 1 of Section 8.4 of the class notes](https://jermwatt.github.io/mlrefined/blog_posts/8_Linear_regression/8_4_feature_scaling.html) where standard normalization was shown to enormously improve our ability to perform linear regression using gradient descent on the following student loan dataset."
   ]
  },
  {
   "cell_type": "code",
   "execution_count": 78,
   "metadata": {},
   "outputs": [
    {
     "data": {
      "image/png": "[encoded data removed]",
      "text/plain": [
       "<matplotlib.figure.Figure at 0x7fbd8e9266a0>"
      ]
     },
     "metadata": {},
     "output_type": "display_data"
    },
    {
     "data": {
      "image/png": "[encoded data removed]",
      "text/plain": [
       "<matplotlib.figure.Figure at 0x7fbd8ea36e80>"
      ]
     },
     "metadata": {},
     "output_type": "display_data"
    }
   ],
   "source": [
    "# data input\n",
    "csvname = 'student_debt.csv'\n",
    "data = np.loadtxt(csvname,delimiter = ',')\n",
    "\n",
    "# get input and output of dataset\n",
    "x = data[:,:-1].T\n",
    "y = data[:,-1:] \n",
    "\n",
    "# scatter plot the input data\n",
    "plt.figure()\n",
    "plt.scatter(x,y,color = 'k',edgecolor = 'w')\n",
    "plt.show()"
   ]
  },
  {
   "cell_type": "code",
   "execution_count": 79,
   "metadata": {
    "collapsed": true
   },
   "outputs": [],
   "source": [
    "# Least Squares functions\n",
    "# compute linear model of input point\n",
    "def model(x_p,w):\n",
    "    # stack a 1 onto the top of each input \n",
    "    x_p = np.vstack((1,x_p))   \n",
    "        \n",
    "    # compute linear combination and return\n",
    "    a = np.dot(x_p.T,w)\n",
    "    return a\n",
    "\n",
    "# a least squares function for linear regression\n",
    "def least_squares(w):\n",
    "    P = len(y)\n",
    "    cost = 0\n",
    "    for p in range(P):\n",
    "        # get pth input/output pair\n",
    "        x_p = x[:,p][:,np.newaxis]\n",
    "        y_p = y[p]\n",
    "\n",
    "        ## add to current cost\n",
    "        cost += (model(x_p,w)  - y_p)**2\n",
    "        \n",
    "    # return average least squares error\n",
    "    return cost/float(P)\n",
    "\n",
    "\n",
    "\n",
    "def gradient_descent(g,alpha_choice,max_its,w):\n",
    "    gradient = value_and_grad(g)\n",
    "    weight_history = []\n",
    "    cost_history = []\n",
    "    alpha = 0\n",
    "    for k in range(1,max_its+1):\n",
    "        if alpha_choice == 'diminishing':\n",
    "            alpha = 1/float(k)\n",
    "        else:\n",
    "            alpha = alpha_choice\n",
    "            \n",
    "        cost_eval,grad_eval = gradient(w)\n",
    "        weight_history.append(w)\n",
    "        cost_history.append(cost_eval)\n",
    "        w = w - alpha*grad_eval\n",
    "        \n",
    "    weight_history.append(w)\n",
    "    cost_history.append(g(w))  \n",
    "    return weight_history,cost_history\n",
    "\n",
    "def standard_normalizer(x):\n",
    "    # compute the mean and standard deviation of the input\n",
    "    x_means = np.mean(x,axis = 1)[:,np.newaxis]\n",
    "    x_stds = np.std(x,axis = 1)[:,np.newaxis]   \n",
    "\n",
    "    # create standard normalizer function based on input data statistics\n",
    "    normalizer = lambda data: (data - x_means)/x_stds\n",
    "    \n",
    "    # return normalizer and inverse_normalizer\n",
    "    return normalizer"
   ]
  },
  {
   "cell_type": "code",
   "execution_count": 82,
   "metadata": {},
   "outputs": [
    {
     "data": {
      "image/png": "[encoded data removed]",
      "text/plain": [
       "<matplotlib.figure.Figure at 0x7fbda4f62048>"
      ]
     },
     "metadata": {},
     "output_type": "display_data"
    },
    {
     "data": {
      "image/png": "[encoded data removed]",
      "text/plain": [
       "<matplotlib.figure.Figure at 0x7fbd8e9b74a8>"
      ]
     },
     "metadata": {},
     "output_type": "display_data"
    },
    {
     "data": {
      "image/png": "[encoded data removed]",
      "text/plain": [
       "<matplotlib.figure.Figure at 0x7fbd8e9a5ba8>"
      ]
     },
     "metadata": {},
     "output_type": "display_data"
    }
   ],
   "source": [
    "# Minimize the least squares cost function\n",
    "g = least_squares\n",
    "w = [0.0,0.0]\n",
    "max_its = 100\n",
    "alpha_choice = 10**(-7)\n",
    "weight_history,cost_history = gradient_descent(g,alpha_choice,max_its,w)\n",
    "\n",
    "# Normalize the data\n",
    "normalizer = standard_normalizer(x)\n",
    "x_normalized = normalizer(x)\n",
    "# a least squares function for normalized data\n",
    "def least_squares2(w):\n",
    "    P = len(y)\n",
    "    cost = 0\n",
    "    for p in range(P):\n",
    "        # get pth input/output pair\n",
    "        x_p = x_normalized[:,p][:,np.newaxis]\n",
    "        y_p = y[p]\n",
    "\n",
    "        ## add to current cost\n",
    "        cost += (model(x_p,w)  - y_p)**2\n",
    "        \n",
    "    # return average least squares error\n",
    "    return cost/float(P)\n",
    "g = least_squares2\n",
    "alpha_choice = 10**(-1)\n",
    "weight_history2,cost_history2 = gradient_descent(g,alpha_choice,max_its,w)\n",
    "\n",
    "\n",
    "#### Plotting\n",
    "fig = plt.figure()\n",
    "plt.plot(range(max_its+1), cost_history)\n",
    "plt.plot(range(max_its+1), cost_history2)\n",
    "plt.ylabel('Cost History')\n",
    "plt.xlabel('Iterations')\n",
    "plt.show()\n",
    "\n",
    "plt.figure()\n",
    "plt.scatter(x,y,color = 'k',edgecolor = 'w')\n",
    "xfit = np.linspace(2004.0,2014.0,100)\n",
    "w0 = weight_history[np.argmin(cost_history)][0]\n",
    "w1 = weight_history[np.argmin(cost_history)][1]\n",
    "yfit = w0 + w1*xfit\n",
    "plt.plot(xfit,yfit)\n",
    "plt.title('Not Best Fit')\n",
    "plt.show()\n",
    "\n",
    "plt.figure()\n",
    "plt.scatter(x_normalized,y,color = 'k',edgecolor = 'w')\n",
    "normalizer = standard_normalizer([xfit])\n",
    "xfit = normalizer(xfit)\n",
    "w0 = weight_history2[np.argmin(cost_history2)][0]\n",
    "w1 = weight_history2[np.argmin(cost_history2)][1]\n",
    "yfit = w0 + w1*xfit[0]\n",
    "plt.plot(xfit[0],yfit)\n",
    "plt.title('Best Fit')\n",
    "plt.show()"
   ]
  },
  {
   "cell_type": "markdown",
   "metadata": {},
   "source": [
    "Compare a run of gradient descent using a maximum of $100$ iterations on the original input, to one run when using standard normalized input, where both runs are initialized at the point $\\mathbf{w} = \\begin{bmatrix} 0 \\\\ 0 \\end{bmatrix}$.  Note here that you will likely not achieve any kind of meaningful convergence when minimizing the cost over the original input (as detailed in the example), but for the standard normalized input you can definitely achieve convergence by properly tuning the steplength parameter.  Plot and compare the fit of each run on the original dataset.\n",
    "\n",
    "Note that you do **not** need to produce the contour plots shown in the notes."
   ]
  },
  {
   "cell_type": "markdown",
   "metadata": {},
   "source": [
    "**Remember:** as described in the notes, in evaluating any new test input of a model (learned on normalized training data) you need to normalize the test input precisely the way you did the training data."
   ]
  }
 ],
 "metadata": {
  "anaconda-cloud": {},
  "kernelspec": {
   "display_name": "Python 3",
   "language": "python",
   "name": "python3"
  },
  "language_info": {
   "codemirror_mode": {
    "name": "ipython",
    "version": 3
   },
   "file_extension": ".py",
   "mimetype": "text/x-python",
   "name": "python",
   "nbconvert_exporter": "python",
   "pygments_lexer": "ipython3",
   "version": "3.6.3"
  },
  "toc": {
   "colors": {
    "hover_highlight": "#DAA520",
    "navigate_num": "#000000",
    "navigate_text": "#333333",
    "running_highlight": "#FF0000",
    "selected_highlight": "#FFD700",
    "sidebar_border": "#EEEEEE",
    "wrapper_background": "#FFFFFF"
   },
   "moveMenuLeft": true,
   "nav_menu": {
    "height": "30px",
    "width": "252px"
   },
   "navigate_menu": true,
   "number_sections": false,
   "sideBar": true,
   "threshold": 4,
   "toc_cell": false,
   "toc_section_display": "block",
   "toc_window_display": false,
   "widenNotebook": false
  }
 },
 "nbformat": 4,
 "nbformat_minor": 1
}
