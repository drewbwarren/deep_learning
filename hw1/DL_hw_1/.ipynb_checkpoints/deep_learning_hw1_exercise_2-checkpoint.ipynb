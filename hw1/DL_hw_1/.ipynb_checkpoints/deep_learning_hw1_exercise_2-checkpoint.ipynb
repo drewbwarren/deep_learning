{
 "cells": [
  {
   "cell_type": "markdown",
   "metadata": {},
   "source": [
    "# Drew Warren\n",
    "# Deep learning from scratch: homework 1"
   ]
  },
  {
   "cell_type": "markdown",
   "metadata": {},
   "source": [
    "### General instructions\n",
    "\n",
    "Complete the exericse listed below in this Jupyter notebook - leaving all of your code in Python cells in the notebook itself.  Feel free to add any necessary cells.  "
   ]
  },
  {
   "cell_type": "markdown",
   "metadata": {},
   "source": [
    "### When submitting this homework:\n",
    "\n",
    "**Make sure you have put your name at the top of each file**\n",
    "    \n",
    "**Make sure all output is present in your notebook prior to submission**\n",
    "\n",
    "**If possible please do not zip your files when uploading to canvas**"
   ]
  },
  {
   "cell_type": "markdown",
   "metadata": {},
   "source": [
    "---"
   ]
  },
  {
   "cell_type": "code",
   "execution_count": 1,
   "metadata": {
    "collapsed": true
   },
   "outputs": [],
   "source": [
    "# import necessary library\n",
    "import autograd.numpy as np   \n",
    "from autograd import value_and_grad \n",
    "import matplotlib.pyplot as plt"
   ]
  },
  {
   "cell_type": "markdown",
   "metadata": {},
   "source": [
    "#### <span style=\"color:#a50e3e;\">Exercise 2. </span>  Use gradient descent to minimize a simple function, and tune your steplength by analyzing the cost function plot"
   ]
  },
  {
   "cell_type": "markdown",
   "metadata": {},
   "source": [
    "Copy the gradient descent code given in [Section 6.4 of the class notes](https://jermwatt.github.io/mlrefined/blog_posts/6_First_order_methods/6_4_Gradient_descent.html) into the cell below."
   ]
  },
  {
   "cell_type": "code",
   "execution_count": 19,
   "metadata": {},
   "outputs": [
    {
     "data": {
      "image/png": "[encoded data removed]",
      "text/plain": [
       "<matplotlib.figure.Figure at 0x7fce7d063fd0>"
      ]
     },
     "metadata": {},
     "output_type": "display_data"
    }
   ],
   "source": [
    "#### GRADIENT DESCENT CODE GOES HERE ####\n",
    "#### Gradient Descent function from section 6.4\n",
    "def gradient_descent(g,alpha_choice,max_its,w):\n",
    "    gradient = value_and_grad(g)\n",
    "    weight_history = []\n",
    "    cost_history = []\n",
    "    alpha = 0\n",
    "    for k in range(1,max_its+1):\n",
    "        if alpha_choice == 'diminishing':\n",
    "            alpha = 1/float(k)\n",
    "        else:\n",
    "            alpha = alpha_choice\n",
    "            \n",
    "        cost_eval,grad_eval = gradient(w)\n",
    "        weight_history.append(w)\n",
    "        cost_history.append(cost_eval)\n",
    "        w = w - alpha*grad_eval\n",
    "        \n",
    "    weight_history.append(w)\n",
    "    cost_history.append(g(w))  \n",
    "    return weight_history,cost_history\n",
    "\n",
    "g = lambda w: w**2 + 16*w + 50\n",
    "w = 10.0; alpha_choice = .25; max_its = 25;\n",
    "weight_history,cost_history = gradient_descent(g,alpha_choice,max_its,w)\n",
    "#print(weight_history)\n",
    "\n",
    "#### Plotting\n",
    "fig = plt.figure()\n",
    "plt.plot(range(max_its+1), cost_history)\n",
    "plt.show()\n"
   ]
  },
  {
   "cell_type": "markdown",
   "metadata": {},
   "source": [
    "Next run gradient descent to minimize the following function\n",
    "\n",
    "\\begin{equation}\n",
    "g(w) = \\frac{1}{50}\\left(w^4 + w^2 + 10w\\right)\n",
    "\\end{equation}\n",
    "\n",
    "with an initial point $w_0 = 2$ and $1000$ iterations.  Run gradient descent 3 times with 3 different choices: $\\alpha = 1$, $\\alpha = 10^{-1}$, $\\alpha = 10^{-2}$.\n",
    "\n",
    "Plot the resulting `cost_history` of each run in a single plot to compare their performance.  Which steplength value works best for this particular function and initial point?"
   ]
  },
  {
   "cell_type": "code",
   "execution_count": 23,
   "metadata": {
    "collapsed": true
   },
   "outputs": [],
   "source": [
    "# create the input function\n",
    "g = lambda w: 1/float(50)*(w**4 + w**2 + 10*w)   "
   ]
  },
  {
   "cell_type": "code",
   "execution_count": 45,
   "metadata": {},
   "outputs": [],
   "source": [
    "# RUN GRADIENT DESCENT TO MINIMIZE THIS FUNCTION\n",
    "w = 2.0\n",
    "max_its = 1000\n",
    "alpha_choice = [1.0,.1,.01]\n",
    "weight_history = [0,0,0]\n",
    "cost_history = [0,0,0]\n",
    "\n",
    "for i,alpha in enumerate(alpha_choice):\n",
    "    weight_history[i],cost_history[i] = gradient_descent(g,alpha,max_its,w)\n"
   ]
  },
  {
   "cell_type": "code",
   "execution_count": 48,
   "metadata": {},
   "outputs": [
    {
     "data": {
      "image/png": "[encoded data removed]",
      "text/plain": [
       "<matplotlib.figure.Figure at 0x7fce7cdbcba8>"
      ]
     },
     "metadata": {},
     "output_type": "display_data"
    }
   ],
   "source": [
    "# COST FUNCTION HISTORY PLOTTER GOES HERE\n",
    "#### Plotting\n",
    "fig = plt.figure()\n",
    "plt.plot(range(max_its+1), cost_history[0])\n",
    "plt.plot(range(max_its+1), cost_history[1])\n",
    "plt.plot(range(max_its+1), cost_history[2])\n",
    "plt.legend(['alhpa = 1.0','alpha = 0.1','alpha = 0.01'],loc='center left',bbox_to_anchor=(1,0.5))\n",
    "plt.show()\n"
   ]
  }
 ],
 "metadata": {
  "anaconda-cloud": {},
  "kernelspec": {
   "display_name": "Python 3",
   "language": "python",
   "name": "python3"
  },
  "language_info": {
   "codemirror_mode": {
    "name": "ipython",
    "version": 3
   },
   "file_extension": ".py",
   "mimetype": "text/x-python",
   "name": "python",
   "nbconvert_exporter": "python",
   "pygments_lexer": "ipython3",
   "version": "3.6.3"
  },
  "toc": {
   "colors": {
    "hover_highlight": "#DAA520",
    "navigate_num": "#000000",
    "navigate_text": "#333333",
    "running_highlight": "#FF0000",
    "selected_highlight": "#FFD700",
    "sidebar_border": "#EEEEEE",
    "wrapper_background": "#FFFFFF"
   },
   "moveMenuLeft": true,
   "nav_menu": {
    "height": "30px",
    "width": "252px"
   },
   "navigate_menu": true,
   "number_sections": false,
   "sideBar": true,
   "threshold": 4,
   "toc_cell": false,
   "toc_section_display": "block",
   "toc_window_display": false,
   "widenNotebook": false
  }
 },
 "nbformat": 4,
 "nbformat_minor": 1
}
